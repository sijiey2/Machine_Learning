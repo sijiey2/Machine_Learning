{
 "cells": [
  {
   "cell_type": "raw",
   "metadata": {
    "collapsed": true
   },
   "source": [
    "Step1: Setting Up Data"
   ]
  },
  {
   "cell_type": "code",
   "execution_count": 13,
   "metadata": {},
   "outputs": [],
   "source": [
    "import numpy as np\n",
    "import matplotlib.pyplot as plt\n",
    "import mltools as ml\n",
    "from matplotlib.legend_handler import HandlerLine2D\n",
    "import warnings\n",
    "from sklearn.neural_network import MLPClassifier\n",
    "from sklearn.metrics import roc_auc_score\n",
    "np.random.seed(7)\n",
    "warnings.filterwarnings('ignore')\n",
    "\n",
    "X = np.genfromtxt('data/X_train.txt', delimiter=None)\n",
    "Y = np.genfromtxt('data/Y_train.txt', delimiter=None)\n",
    "X,Y = ml.shuffleData(X, Y)"
   ]
  },
  {
   "cell_type": "raw",
   "metadata": {},
   "source": [
    "Step2: Splite Data"
   ]
  },
  {
   "cell_type": "code",
   "execution_count": 14,
   "metadata": {
    "collapsed": true
   },
   "outputs": [],
   "source": [
    "Xtr, Xva, Ytr, Yva = ml.splitData(X, Y)\n",
    "Xt, Yt = Xtr[:5000], Ytr[:5000]"
   ]
  },
  {
   "cell_type": "raw",
   "metadata": {},
   "source": [
    "Step3: Apply Neural Networks "
   ]
  },
  {
   "cell_type": "code",
   "execution_count": 15,
   "metadata": {},
   "outputs": [
    {
     "name": "stdout",
     "output_type": "stream",
     "text": [
      "relu\n",
      "auc:  0.524523652638\n",
      "tanh\n",
      "auc:  0.55739640857\n",
      "logistic\n",
      "auc:  0.565409308542\n",
      "identity\n",
      "auc:  0.589713691139\n"
     ]
    }
   ],
   "source": [
    "# vary activation funcs & solvers\n",
    "\n",
    "activations = ['relu', 'tanh', 'logistic', 'identity']\n",
    "solvers = ['adam', 'sgd', 'lbfgs']\n",
    "\n",
    "for a in activations: \n",
    "    print a\n",
    "    clf = MLPClassifier(activation=a, alpha=0.001, batch_size='auto', beta_1=0.9,beta_2=0.999, \\\n",
    "                        early_stopping=False, epsilon=1e-08,hidden_layer_sizes=(100), \\\n",
    "                        learning_rate_init=0.001, max_iter=200, momentum=0.9, nesterovs_momentum=True, power_t=0.5,\\\n",
    "                        random_state=1, shuffle=True, solver='adam', tol=0.0001, validation_fraction=0.1,\\\n",
    "                        verbose=False, warm_start=False)\n",
    "    clf.fit(Xtr, Ytr)                         \n",
    "    YvaP = clf.predict(Xva)\n",
    "    auc = roc_auc_score(Yva, YvaP)\n",
    "    print \"auc: \", auc"
   ]
  },
  {
   "cell_type": "code",
   "execution_count": 16,
   "metadata": {},
   "outputs": [
    {
     "name": "stdout",
     "output_type": "stream",
     "text": [
      "50\n",
      "auc:  0.590706957114\n",
      "100\n",
      "auc:  0.524523652638\n",
      "150\n",
      "auc:  0.553749564119\n",
      "200\n",
      "auc:  0.593938969354\n",
      "250\n",
      "auc:  0.506554332249\n",
      "300\n",
      "auc:  0.552210719736\n",
      "350\n",
      "auc:  0.564754743939\n",
      "400\n",
      "auc:  0.51021689303\n",
      "450\n",
      "auc:  0.558548110494\n",
      "500\n",
      "auc:  0.595057902063\n"
     ]
    }
   ],
   "source": [
    "# vary number of nodes (layer1)\n",
    "\n",
    "n = 50\n",
    "nodes = []\n",
    "aucs = []\n",
    "while n <= 500:\n",
    "    print n\n",
    "    nodes.append(n)\n",
    "    clf = MLPClassifier(activation='relu', alpha=0.001, batch_size='auto', beta_1=0.9,beta_2=0.999, \\\n",
    "                        early_stopping=False, epsilon=1e-08,hidden_layer_sizes=(n), \\\n",
    "                        learning_rate_init=0.001, max_iter=200, momentum=0.9, nesterovs_momentum=True, power_t=0.5,\\\n",
    "                        random_state=1, shuffle=True, solver='adam', tol=0.0001, validation_fraction=0.1,\\\n",
    "                        verbose=False, warm_start=False)\n",
    "    clf.fit(Xtr, Ytr)                         \n",
    "    YvaP = clf.predict(Xva)\n",
    "    auc = roc_auc_score(Yva, YvaP)\n",
    "    print \"auc: \", auc\n",
    "    aucs.append(auc)\n",
    "    n += 50"
   ]
  },
  {
   "cell_type": "code",
   "execution_count": 17,
   "metadata": {},
   "outputs": [
    {
     "data": {
      "image/png": "[encoded data removed]",
      "text/plain": [
       "<matplotlib.figure.Figure at 0x1a1be19d50>"
      ]
     },
     "metadata": {},
     "output_type": "display_data"
    }
   ],
   "source": [
    "plt.title(\"#Nodes VS. AUC\")\n",
    "plt.plot(nodes, aucs)\n",
    "plt.show()"
   ]
  },
  {
   "cell_type": "code",
   "execution_count": 19,
   "metadata": {},
   "outputs": [
    {
     "name": "stdout",
     "output_type": "stream",
     "text": [
      "10\n",
      "auc:  0.5\n",
      "20\n",
      "auc:  0.584108337935\n",
      "30\n",
      "auc:  0.584283790647\n",
      "40\n",
      "auc:  0.579555892734\n",
      "50\n",
      "auc:  0.582565575583\n",
      "60\n",
      "auc:  0.582721630187\n",
      "70\n",
      "auc:  0.56498505098\n",
      "80\n",
      "auc:  0.558476253297\n",
      "90\n",
      "auc:  0.582773155632\n"
     ]
    }
   ],
   "source": [
    "# vary number of nodes (layer2)\n",
    "\n",
    "n = 10\n",
    "nodes = []\n",
    "aucs = []\n",
    "while n < 100:\n",
    "    print n\n",
    "    nodes.append(n)\n",
    "    clf = MLPClassifier(activation='relu', alpha=0.001, batch_size='auto', beta_1=0.9,beta_2=0.999, \\\n",
    "                        early_stopping=False, epsilon=1e-08,hidden_layer_sizes=(450, n), \\\n",
    "                        learning_rate_init=0.001, max_iter=200, momentum=0.9, nesterovs_momentum=True, power_t=0.5,\\\n",
    "                        random_state=1, shuffle=True, solver='adam', tol=0.0001, validation_fraction=0.1,\\\n",
    "                        verbose=False, warm_start=False)\n",
    "    clf.fit(Xtr, Ytr)                         \n",
    "    YvaP = clf.predict(Xva)\n",
    "    auc = roc_auc_score(Yva, YvaP)\n",
    "    print \"auc: \", auc\n",
    "    aucs.append(auc)\n",
    "    n += 10"
   ]
  },
  {
   "cell_type": "code",
   "execution_count": 20,
   "metadata": {},
   "outputs": [
    {
     "data": {
      "image/png": "[encoded data removed]",
      "text/plain": [
       "<matplotlib.figure.Figure at 0x1a38125510>"
      ]
     },
     "metadata": {},
     "output_type": "display_data"
    }
   ],
   "source": [
    "plt.title(\"#Nodes VS. AUC\")\n",
    "plt.plot(nodes, aucs)\n",
    "plt.show()"
   ]
  },
  {
   "cell_type": "raw",
   "metadata": {},
   "source": [
    "Step4: Get Results"
   ]
  },
  {
   "cell_type": "code",
   "execution_count": 21,
   "metadata": {},
   "outputs": [
    {
     "name": "stdout",
     "output_type": "stream",
     "text": [
      "auc:  0.584108337935\n"
     ]
    }
   ],
   "source": [
    "# settings: \n",
    "# -activation func: relu\n",
    "# -solver: adam\n",
    "# -layer 1 => 450 nodes\n",
    "# -layer 2 => 20 nodes\n",
    "\n",
    "clf = MLPClassifier(activation='relu', alpha=0.001, batch_size='auto', beta_1=0.9,beta_2=0.999, \\\n",
    "                        early_stopping=False, epsilon=1e-08,hidden_layer_sizes=(450, 20), \\\n",
    "                        learning_rate_init=0.001, max_iter=200, momentum=0.9, nesterovs_momentum=True, power_t=0.5,\\\n",
    "                        random_state=1, shuffle=True, solver='adam', tol=0.0001, validation_fraction=0.1,\\\n",
    "                        verbose=False, warm_start=False)\n",
    "clf.fit(Xtr, Ytr)                         \n",
    "YvaP = clf.predict(Xva)\n",
    "auc = roc_auc_score(Yva, YvaP)\n",
    "print \"auc: \", auc"
   ]
  }
 ],
 "metadata": {
  "kernelspec": {
   "display_name": "Python 2",
   "language": "python",
   "name": "python2"
  },
  "language_info": {
   "codemirror_mode": {
    "name": "ipython",
    "version": 2
   },
   "file_extension": ".py",
   "mimetype": "text/x-python",
   "name": "python",
   "nbconvert_exporter": "python",
   "pygments_lexer": "ipython2",
   "version": "2.7.13"
  }
 },
 "nbformat": 4,
 "nbformat_minor": 2
}
